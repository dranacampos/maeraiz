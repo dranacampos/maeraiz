{
  "nbformat": 4,
  "nbformat_minor": 0,
  "metadata": {
    "colab": {
      "provenance": []
    },
    "kernelspec": {
      "name": "python3",
      "display_name": "Python 3"
    },
    "language_info": {
      "name": "python"
    }
  },
  "cells": [
    {
      "cell_type": "code",
      "execution_count": 1,
      "metadata": {
        "colab": {
          "base_uri": "https://localhost:8080/"
        },
        "id": "R2livLcOacMX",
        "outputId": "3fb45cd0-d23a-4548-9f3d-5ec61d1a3b25"
      },
      "outputs": [
        {
          "output_type": "stream",
          "name": "stdout",
          "text": [
            "Requirement already satisfied: google-genai in /usr/local/lib/python3.11/dist-packages (1.15.0)\n",
            "Requirement already satisfied: anyio<5.0.0,>=4.8.0 in /usr/local/lib/python3.11/dist-packages (from google-genai) (4.9.0)\n",
            "Requirement already satisfied: google-auth<3.0.0,>=2.14.1 in /usr/local/lib/python3.11/dist-packages (from google-genai) (2.38.0)\n",
            "Requirement already satisfied: httpx<1.0.0,>=0.28.1 in /usr/local/lib/python3.11/dist-packages (from google-genai) (0.28.1)\n",
            "Requirement already satisfied: pydantic<3.0.0,>=2.0.0 in /usr/local/lib/python3.11/dist-packages (from google-genai) (2.11.4)\n",
            "Requirement already satisfied: requests<3.0.0,>=2.28.1 in /usr/local/lib/python3.11/dist-packages (from google-genai) (2.32.3)\n",
            "Requirement already satisfied: websockets<15.1.0,>=13.0.0 in /usr/local/lib/python3.11/dist-packages (from google-genai) (15.0.1)\n",
            "Requirement already satisfied: typing-extensions<5.0.0,>=4.11.0 in /usr/local/lib/python3.11/dist-packages (from google-genai) (4.13.2)\n",
            "Requirement already satisfied: idna>=2.8 in /usr/local/lib/python3.11/dist-packages (from anyio<5.0.0,>=4.8.0->google-genai) (3.10)\n",
            "Requirement already satisfied: sniffio>=1.1 in /usr/local/lib/python3.11/dist-packages (from anyio<5.0.0,>=4.8.0->google-genai) (1.3.1)\n",
            "Requirement already satisfied: cachetools<6.0,>=2.0.0 in /usr/local/lib/python3.11/dist-packages (from google-auth<3.0.0,>=2.14.1->google-genai) (5.5.2)\n",
            "Requirement already satisfied: pyasn1-modules>=0.2.1 in /usr/local/lib/python3.11/dist-packages (from google-auth<3.0.0,>=2.14.1->google-genai) (0.4.2)\n",
            "Requirement already satisfied: rsa<5,>=3.1.4 in /usr/local/lib/python3.11/dist-packages (from google-auth<3.0.0,>=2.14.1->google-genai) (4.9.1)\n",
            "Requirement already satisfied: certifi in /usr/local/lib/python3.11/dist-packages (from httpx<1.0.0,>=0.28.1->google-genai) (2025.4.26)\n",
            "Requirement already satisfied: httpcore==1.* in /usr/local/lib/python3.11/dist-packages (from httpx<1.0.0,>=0.28.1->google-genai) (1.0.9)\n",
            "Requirement already satisfied: h11>=0.16 in /usr/local/lib/python3.11/dist-packages (from httpcore==1.*->httpx<1.0.0,>=0.28.1->google-genai) (0.16.0)\n",
            "Requirement already satisfied: annotated-types>=0.6.0 in /usr/local/lib/python3.11/dist-packages (from pydantic<3.0.0,>=2.0.0->google-genai) (0.7.0)\n",
            "Requirement already satisfied: pydantic-core==2.33.2 in /usr/local/lib/python3.11/dist-packages (from pydantic<3.0.0,>=2.0.0->google-genai) (2.33.2)\n",
            "Requirement already satisfied: typing-inspection>=0.4.0 in /usr/local/lib/python3.11/dist-packages (from pydantic<3.0.0,>=2.0.0->google-genai) (0.4.0)\n",
            "Requirement already satisfied: charset-normalizer<4,>=2 in /usr/local/lib/python3.11/dist-packages (from requests<3.0.0,>=2.28.1->google-genai) (3.4.2)\n",
            "Requirement already satisfied: urllib3<3,>=1.21.1 in /usr/local/lib/python3.11/dist-packages (from requests<3.0.0,>=2.28.1->google-genai) (2.4.0)\n",
            "Requirement already satisfied: pyasn1<0.7.0,>=0.6.1 in /usr/local/lib/python3.11/dist-packages (from pyasn1-modules>=0.2.1->google-auth<3.0.0,>=2.14.1->google-genai) (0.6.1)\n"
          ]
        }
      ],
      "source": [
        "!pip install google-genai\n"
      ]
    },
    {
      "cell_type": "code",
      "source": [
        "import os\n",
        "from google.colab import userdata\n",
        "os.environ ['GOOGLE_API_KEY'] = userdata.get('GOOGLE_API_KEY')\n",
        "\n",
        "from google import genai\n"
      ],
      "metadata": {
        "id": "mGJDP5fXdIYs"
      },
      "execution_count": 2,
      "outputs": []
    },
    {
      "cell_type": "code",
      "source": [
        "client  = genai.Client()\n",
        "\n",
        "\n",
        "for model in client.models.list():\n",
        "  print (model.name)\n"
      ],
      "metadata": {
        "colab": {
          "base_uri": "https://localhost:8080/"
        },
        "id": "1sdrE8lHdPLe",
        "outputId": "bc809ccf-089b-4042-89a3-c5b5aa738183"
      },
      "execution_count": 3,
      "outputs": [
        {
          "output_type": "stream",
          "name": "stdout",
          "text": [
            "models/embedding-gecko-001\n",
            "models/gemini-1.0-pro-vision-latest\n",
            "models/gemini-pro-vision\n",
            "models/gemini-1.5-pro-latest\n",
            "models/gemini-1.5-pro-001\n",
            "models/gemini-1.5-pro-002\n",
            "models/gemini-1.5-pro\n",
            "models/gemini-1.5-flash-latest\n",
            "models/gemini-1.5-flash-001\n",
            "models/gemini-1.5-flash-001-tuning\n",
            "models/gemini-1.5-flash\n",
            "models/gemini-1.5-flash-002\n",
            "models/gemini-1.5-flash-8b\n",
            "models/gemini-1.5-flash-8b-001\n",
            "models/gemini-1.5-flash-8b-latest\n",
            "models/gemini-1.5-flash-8b-exp-0827\n",
            "models/gemini-1.5-flash-8b-exp-0924\n",
            "models/gemini-2.5-pro-exp-03-25\n",
            "models/gemini-2.5-pro-preview-03-25\n",
            "models/gemini-2.5-flash-preview-04-17\n",
            "models/gemini-2.5-flash-preview-04-17-thinking\n",
            "models/gemini-2.5-pro-preview-05-06\n",
            "models/gemini-2.0-flash-exp\n",
            "models/gemini-2.0-flash\n",
            "models/gemini-2.0-flash-001\n",
            "models/gemini-2.0-flash-exp-image-generation\n",
            "models/gemini-2.0-flash-lite-001\n",
            "models/gemini-2.0-flash-lite\n",
            "models/gemini-2.0-flash-preview-image-generation\n",
            "models/gemini-2.0-flash-lite-preview-02-05\n",
            "models/gemini-2.0-flash-lite-preview\n",
            "models/gemini-2.0-pro-exp\n",
            "models/gemini-2.0-pro-exp-02-05\n",
            "models/gemini-exp-1206\n",
            "models/gemini-2.0-flash-thinking-exp-01-21\n",
            "models/gemini-2.0-flash-thinking-exp\n",
            "models/gemini-2.0-flash-thinking-exp-1219\n",
            "models/learnlm-2.0-flash-experimental\n",
            "models/gemma-3-1b-it\n",
            "models/gemma-3-4b-it\n",
            "models/gemma-3-12b-it\n",
            "models/gemma-3-27b-it\n",
            "models/embedding-001\n",
            "models/text-embedding-004\n",
            "models/gemini-embedding-exp-03-07\n",
            "models/gemini-embedding-exp\n",
            "models/aqa\n",
            "models/imagen-3.0-generate-002\n",
            "models/gemini-2.0-flash-live-001\n"
          ]
        }
      ]
    },
    {
      "cell_type": "code",
      "source": [
        "modelo = \"gemini-2.0-flash\""
      ],
      "metadata": {
        "id": "xarTXcxgdU9v"
      },
      "execution_count": 5,
      "outputs": []
    },
    {
      "cell_type": "code",
      "source": [
        "chat = client.chats.create(model=modelo)\n",
        "resposta = chat.send_message (\"Oi tudo bem?\")\n",
        "resposta.text"
      ],
      "metadata": {
        "colab": {
          "base_uri": "https://localhost:8080/",
          "height": 36
        },
        "id": "6dWWFuMXdw-i",
        "outputId": "89e0c830-6196-4a9f-d18a-b8b311f33043"
      },
      "execution_count": 8,
      "outputs": [
        {
          "output_type": "execute_result",
          "data": {
            "text/plain": [
              "'Tudo bem por aqui! 😊 Como posso te ajudar hoje?\\n'"
            ],
            "application/vnd.google.colaboratory.intrinsic+json": {
              "type": "string"
            }
          },
          "metadata": {},
          "execution_count": 8
        }
      ]
    },
    {
      "cell_type": "code",
      "source": [
        "chat = client.chats.create(model=modelo)\n",
        "\n",
        "\n",
        "from google.genai import types\n",
        "\n",
        "\n",
        "chat_config = types.GenerateContentConfig(\n",
        "    system_instruction = \"Você é uma mentora de mulheres que usa Ciência e Inteligência Artificial como ferramentas em uma linguagem simples, leve e didática para ajudar as mães e empreendedoras que não dominam IA e são iniciantes nas redes sociais a criarem sua assistente virtual para seu negócio\")\n"
      ],
      "metadata": {
        "id": "FULruUYZec3h"
      },
      "execution_count": 9,
      "outputs": []
    },
    {
      "cell_type": "code",
      "source": [
        "def descobrir_raiz():\n",
        "    print(\"Olá! Seja bem-vinda ao Ressonância Feminina. Sabemos que você é uma mãe e empreendedora incrível, mas precisa de ajuda para encontrar e ressoar seu propósito ao mundo. Para começarmos a descobrir a raiz do seu negócio, qual é o seu nicho de mercado principal?\")\n",
        "    nicho = input(\"> \")\n",
        "    print(f\"\\nAgora vamos aprofundar o propósito do seu negócio de {nicho}:\")\n",
        "\n",
        "    print(\"\\nQual é a sua paixão por trás do seu negócio? (O que te faz levantar da cama todos os dias com energia para trabalhar?)\")\n",
        "    paixao = input(\"> \")\n",
        "\n",
        "    print(\"\\nQual transformação real você quer gerar nas pessoas com o seu negócio?\")\n",
        "    transformacao = input(\"> \")\n",
        "\n",
        "    print(\"\\nQual dor você resolve que te emociona de verdade?\")\n",
        "    dor = input(\"> \")\n",
        "\n",
        "    print(f\"\\nQuais são os seus valores mais importantes como empreendedora no seu nicho de {nicho}? (O que é inegociável na forma como você conduz o seu negócio?)\")\n",
        "    valores = input(\"> \")\n",
        "\n",
        "    print(\"\\nO que você não tolera mais ver acontecendo no seu mercado?\")\n",
        "    nao_tolera = input(\"> \")\n",
        "\n",
        "    # Por enquanto, vamos apenas guardar as respostas em um dicionário\n",
        "    respostas = {\n",
        "        \"nicho\": nicho,\n",
        "        \"paixao\": paixao,\n",
        "        \"transformacao\": transformacao,\n",
        "        \"dor\": dor,\n",
        "        \"valores\": valores,\n",
        "        \"nao_tolera\": nao_tolera\n",
        "    }\n",
        "\n",
        "    print(\"\\nMuito bem! Suas respostas foram registradas.\")\n",
        "    print(\"Em breve, a IA vai te ajudar a encontrar a sua frase de propósito!\")\n",
        "    print(\"\\nSuas respostas:\", respostas) # Apenas para visualização por enquanto\n",
        "\n",
        "# Não se esqueça de chamar a função fora dela para que ela execute!\n",
        "descobrir_raiz()"
      ],
      "metadata": {
        "colab": {
          "base_uri": "https://localhost:8080/"
        },
        "id": "RkL-tozCjDK3",
        "outputId": "d772e790-19c9-42e7-e112-d9be472fd8b0"
      },
      "execution_count": 28,
      "outputs": [
        {
          "output_type": "stream",
          "name": "stdout",
          "text": [
            "Olá! Seja bem-vinda ao Ressonância Feminina. Sabemos que você é uma mãe e empreendedora incrível, mas precisa de ajuda para encontrar e ressoar seu propósito ao mundo. Para começarmos a descobrir a raiz do seu negócio, qual é o seu nicho de mercado principal?\n",
            "> Podologia\n",
            "\n",
            "Agora vamos aprofundar o propósito do seu negócio de Podologia:\n",
            "\n",
            "Qual é a sua paixão por trás do seu negócio? (O que te faz levantar da cama todos os dias com energia para trabalhar?)\n",
            "> O sorriso das minhas clientes, especialmente quando eu alivio a dor e trago mais bem-estar e leveza\n",
            "\n",
            "Qual transformação real você quer gerar nas pessoas com o seu negócio?\n",
            "> Mostrar que o cuidado com os pés é mais que beleza, é saúde\n",
            "\n",
            "Qual dor você resolve que te emociona de verdade?\n",
            "> Tratar e recuperar totalmente uma unha infeccionada\n",
            "\n",
            "Quais são os seus valores mais importantes como empreendedora no seu nicho de Podologia? (O que é inegociável na forma como você conduz o seu negócio?)\n",
            "> Biossegurança, autocuidado e acompanhamento\n",
            "\n",
            "O que você não tolera mais ver acontecendo no seu mercado?\n",
            "> Tratamentos paliativos que não tratam a causa do problema, apenas se preocupa com a estética\n",
            "\n",
            "Muito bem! Suas respostas foram registradas.\n",
            "Em breve, a IA vai te ajudar a encontrar a sua frase de propósito!\n",
            "\n",
            "Suas respostas: {'nicho': 'Podologia', 'paixao': 'O sorriso das minhas clientes, especialmente quando eu alivio a dor e trago mais bem-estar e leveza', 'transformacao': 'Mostrar que o cuidado com os pés é mais que beleza, é saúde', 'dor': 'Tratar e recuperar totalmente uma unha infeccionada', 'valores': 'Biossegurança, autocuidado e acompanhamento', 'nao_tolera': 'Tratamentos paliativos que não tratam a causa do problema, apenas se preocupa com a estética'}\n"
          ]
        }
      ]
    },
    {
      "cell_type": "code",
      "source": [
        "descobrir_raiz()"
      ],
      "metadata": {
        "colab": {
          "base_uri": "https://localhost:8080/"
        },
        "id": "M-7Rxxujn8Tz",
        "outputId": "bbe71b8b-3d07-4cb6-e0b1-20f21802b41c"
      },
      "execution_count": 41,
      "outputs": [
        {
          "output_type": "stream",
          "name": "stdout",
          "text": [
            "Olá! Seja bem-vinda ao Ressonância Feminina. Sabemos que você é uma mãe e empreendedora incrível, mas precisa de ajuda para encontrar e ressoar seu propósito ao mundo. Para começarmos a descobrir a raiz do seu negócio, qual é o seu nicho de mercado principal?\n",
            "> Moda Infantil para Meninos\n",
            "\n",
            "Agora vamos aprofundar o propósito do seu negócio de Moda Infantil para Meninos:\n",
            "\n",
            "Qual é a sua paixão por trás do seu negócio? (O que te faz levantar da cama todos os dias com energia para trabalhar?)\n",
            "> Ver meninos confiantes e confortáveis em roupas que expressam sua individualidade, sem os clichês tradicionais.\n",
            "\n",
            "Qual transformação real você quer gerar nas pessoas com o seu negócio?\n",
            "> Empoderar meninos a serem autênticos e criativos através de roupas estilosas e práticas para o dia a dia.\n",
            "\n",
            "Qual dor você resolve que te emociona de verdade?\n",
            "> A dificuldade das mães em encontrar roupas de qualidade, com design diferenciado e sem personagens infantis saturados para seus filhos meninos\n",
            "\n",
            "Quais são os seus valores mais importantes como empreendedora no seu nicho de Moda Infantil para Meninos? (O que é inegociável na forma como você conduz o seu negócio?)\n",
            "> Qualidade dos tecidos, design inovador, conforto para as crianças, atendimento atencioso às mães e produção ética.\n",
            "\n",
            "O que você não tolera mais ver acontecendo no seu mercado?\n",
            "> A segmentação excessiva e limitante do vestuário infantil masculino, com foco apenas em \"super-heróis\" e cores básicas, ignorando a diversidade de gostos e personalidades.\n",
            "\n",
            "Muito bem! Suas respostas foram registradas.\n",
            "Em breve, a IA vai te ajudar a encontrar a sua frase de propósito!\n",
            "\n",
            "Suas respostas: {'nicho': 'Moda Infantil para Meninos', 'paixao': 'Ver meninos confiantes e confortáveis em roupas que expressam sua individualidade, sem os clichês tradicionais.', 'transformacao': 'Empoderar meninos a serem autênticos e criativos através de roupas estilosas e práticas para o dia a dia.', 'dor': 'A dificuldade das mães em encontrar roupas de qualidade, com design diferenciado e sem personagens infantis saturados para seus filhos meninos', 'valores': 'Qualidade dos tecidos, design inovador, conforto para as crianças, atendimento atencioso às mães e produção ética.', 'nao_tolera': 'A segmentação excessiva e limitante do vestuário infantil masculino, com foco apenas em \"super-heróis\" e cores básicas, ignorando a diversidade de gostos e personalidades.'}\n"
          ]
        }
      ]
    },
    {
      "cell_type": "code",
      "source": [
        "def gerar_frases_proposito(respostas, model):\n",
        "    if model is None:\n",
        "        print(\"O modelo de IA não está configurado. Não é possível gerar as frases de propósito.\")\n",
        "        return None\n",
        "\n",
        "    prompt = f\"\"\"\n",
        "    Com base nas seguintes informações sobre o meu negócio, gere algumas opções de frases de propósito inspiradoras e concisas:\n",
        "\n",
        "    Meu nicho de mercado: {respostas['nicho']}\n",
        "    Minha paixão: {respostas['paixao']}\n",
        "    Transformação que quero gerar: {respostas['transformacao']}\n",
        "    Dor que resolvo e me emociona: {respostas['dor']}\n",
        "    Meus valores importantes: {respostas['valores']}\n",
        "    O que não tolero mais ver acontecendo no meu mercado: {respostas['nao_tolera']}\n",
        "\n",
        "    As frases de propósito devem ser de mãe para mãe, inspiradoras e focadas no impacto positivo do meu trabalho.\n",
        "    \"\"\"\n",
        "\n",
        "    try:\n",
        "        response = model.generate_content(prompt)\n",
        "        print(\"\\nSugestões de frases de propósito geradas pela IA:\")\n",
        "        print(response.text)\n",
        "        return response\n",
        "    except Exception as e:\n",
        "        print(f\"Erro ao gerar as frases de propósito: {e}\")\n",
        "        return None"
      ],
      "metadata": {
        "id": "5_u3-LB_p5rx"
      },
      "execution_count": 48,
      "outputs": []
    },
    {
      "cell_type": "code",
      "source": [
        "if 'respostas' in locals() and 'model' in locals() and model is not None:\n",
        "    response = gerar_frases_proposito(respostas, model)\n",
        "    # Opcional: Você pode então passar 'response' para a função escolher_frase_proposito\n",
        "    # escolher_frase_proposito(response)\n",
        "else:\n",
        "    print(\"Certifique-se de ter executado as etapas anteriores para coletar as respostas e configurar o modelo.\")"
      ],
      "metadata": {
        "colab": {
          "base_uri": "https://localhost:8080/"
        },
        "id": "S_brin4ip8kG",
        "outputId": "c029aac8-f5d1-42e7-f1dc-1afec6281001"
      },
      "execution_count": 49,
      "outputs": [
        {
          "output_type": "stream",
          "name": "stdout",
          "text": [
            "Certifique-se de ter executado as etapas anteriores para coletar as respostas e configurar o modelo.\n"
          ]
        }
      ]
    }
  ]
}